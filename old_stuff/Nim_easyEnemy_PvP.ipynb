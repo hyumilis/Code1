{
  "metadata": {
    "kernelspec": {
      "name": "python",
      "display_name": "Python (Pyodide)",
      "language": "python"
    },
    "language_info": {
      "codemirror_mode": {
        "name": "python",
        "version": 3
      },
      "file_extension": ".py",
      "mimetype": "text/x-python",
      "name": "python",
      "nbconvert_exporter": "python",
      "pygments_lexer": "ipython3",
      "version": "3.8"
    }
  },
  "nbformat_minor": 5,
  "nbformat": 4,
  "cells": [
    {
      "id": "ab002d98-bf81-4a03-a770-ab18e2fc14db",
      "cell_type": "code",
      "source": "### Nim The Game\n\n#imports\nimport random\nfrom random import randint\n\n\n#Setup\nr0 = randint(2, 10)\nr1 = randint(2, 10)\nr2 = randint(2, 10)\nr3 = randint(2, 10)\nvalidpiles = [1,2,3,4]\ncorrectinput = False\nprint(\"Da Rules:\\nChose to play against a Player or an Enemy(easy/hard)\\nPick a Pile to subtract any number (turn out any amount of lights), up to the Pilesize, from.\\nNow the enemy does the same.\\nThe one who turns out the last light of the last Pile, loses!\")\n\n    \n\n#easy enemy\ndef _easyenemy():\n    done = False\n    global r0 ,r1, r2, r3\n    botpile = random.choice(validpiles)\n    while done == False:\n        if botpile == 1:\n            botcount = randint(1, r0)\n            r0 = _ispileemthyorremove(botpile, r1, botcount)\n            done = True\n        elif botpile == 2:\n            botcount = randint(1, r1)\n            r1 = _ispileemthyorremove(botpile, r1, botcount)\n            done = True\n        elif botpile == 3:\n            botcount = randint(1, r2)\n            r2 = _ispileemthyorremove(botpile, r2, botcount)\n            done = True\n        elif botpile == 4:\n            botcount = randint(1, r3)\n            r3 = _ispileemthyorremove(botpile, r3, botcount)\n            done = True\n        else:\n            print(\"404\")\n\n\n#hard enemy\ndef _hardenemy():\n    global r0 ,r1, r2, r3\n    done = False\n    botpile = random.choice(validpiles)\n    if botpile == 1:\n        botcount = randint(1, r0)\n        try:\n            r0 = _smartpileemthyorremove(pile, currentpilecount, count, done)\n            done = True\n        except ValueError:\n            pass\n    elif botpile == 2:\n        botcount = randint(1, r1)\n        r1 = _ispileemthyorremove(botpile, r1, botcount)\n    elif botpile == 3:\n        botcount = randint(1, r2)\n        r2 = _ispileemthyorremove(botpile, r2, botcount)\n    elif botpile == 4:\n        botcount = randint(1, r3)\n        r3 = _ispileemthyorremove(botpile, r3, botcount)\n    else:\n        print(\"404\")\n    \n\n#Player\ndef _playerturn():\n    global r0 ,r1, r2, r3, correctinput\n    while correctinput == False:\n        pilenumber = input(\"Wich pile?\")\n        if pilenumber == \"1\" or pilenumber == \"2\" or pilenumber == \"3\" or pilenumber == \"4\":\n            pilenumber = int(pilenumber)\n            while True:\n                try:\n                    lampcount = int(input(\"How many?\"))\n                    break\n                except ValueError:\n                    print(\"Please input a number!\")\n            if pilenumber == 1:\n                if r0 >= lampcount > 0:\n                    r0 = _ispileemthyorremove(pilenumber, r0, lampcount)\n                else:\n                    correctinput = False\n            elif pilenumber == 2:\n                if r1 >= lampcount > 0:\n                    r1 = _ispileemthyorremove(pilenumber, r1, lampcount)\n                else:\n                    correctinput = False\n            elif pilenumber == 3:\n                chosenpilecount = r2\n                if r2 >= lampcount > 0:\n                    r2 = _ispileemthyorremove(pilenumber, r2, lampcount)\n                else:\n                    correctinput = False\n            elif pilenumber == 4:\n                if r3 >= lampcount > 0:\n                     r3 = _ispileemthyorremove(pilenumber, r3, lampcount)\n                else:\n                    correctinput = False\n            else:\n                print(\"This shouldn´t happen?\")\n            if correctinput == True:\n                correctinput = False\n                return\n            else:\n                print(\"Chose a viable number of lamps!\")\n        else:\n            print(\"Chose a existing pile!\")\n\n\n#pile remove function\ndef _ispileemthyorremove(pile, currentpilecount, count):\n    global correctinput\n    currentpilecount = currentpilecount - count\n    if currentpilecount == 0:\n        global validpiles\n        validpiles.remove(pile)\n    correctinput = True\n    return(currentpilecount)\n\n\n#smart pile remove function for hard enemy\ndef _smartpileemthyorremove(pile, currentpilecount, count, done):\n    global validpiles\n    currentpilecount = currentpilecount - count\n    if nimSumme != 0:\n        if currentpilecount == 0:\n            validpiles.remove(pile)\n        return(currentpilecount)\n    else:\n        raise TypeError(\"not a winning option\")\n\n\n\n#Enemy/Gamemode options\nenemySelectionComplete = False\nwhile enemySelectionComplete == False:\n    enemytype = input(\"Would you like a hard or easy enemy or play against another player?\")\n    if enemytype == \"hard\" or enemytype == \"easy\" or enemytype == \"player\":\n        if enemytype == \"hard\":\n            print(\"This enemy is currently unavailible, I´m sorry.\")\n        else:\n            enemySelectionComplete = True\n    else:\n        print(\"Please input hard, easy or player!\")\n2\n\n#Pile setup\nprint(\"These are the Piles: \" + str(r0) + \" \" + str(r1) + \" \" + str(r2) + \" \" + str(r3))\n\n\n#Gameloop\nwhile (r0 == 0 and r1 == 0 and r2 == 0 and r3 == 0) == False:\n    print(\"Player one's turn\")\n    _playerturn() \n    if (r0 == 0 and r1 == 0 and r2 == 0 and r3 == 0) == True:\n        won = False\n        break\n    print(\"These are the Piles: \" + str(r0) + \" \" + str(r1) + \" \" + str(r2) + \" \" + str(r3))\n    if enemytype == \"easy\":\n        print(\"easy bot's turn\")\n        _easyenemy()\n    elif enemytype == \"hard\":\n        print(\"hard bot's turn\")\n        _hardenemy()\n    elif enemytype == \"player\":\n        print(\"Player two's turn\")\n        _playerturn()\n    else:\n        pass\n    print(\"These are the Piles: \" + str(r0) + \" \" + str(r1) + \" \" + str(r2) + \" \" + str(r3))\n    if (r0 == 0 and r1 == 0 and r2 == 0 and r3 == 0) == True:\n        won = True\n        \n\n\n#End message\nif won == True and enemytype != \"player\":\n    print(\"You won ;)\")\nelif won == True and enemytype == \"player\":\n    print(\"Player one won ;)\")\nelif won == False and enemytype == \"player\":\n    print(\"Player two won :)\")\nelse:\n    print(\"You lost :(\\nGit good\")\n\n\n",
      "metadata": {
        "trusted": true,
        "scrolled": true,
        "tags": [],
        "editable": true,
        "slideshow": {
          "slide_type": ""
        }
      },
      "outputs": [
        {
          "name": "stdout",
          "output_type": "stream",
          "text": "Da Rules:\nChose to play against a Player or an Enemy(easy/hard)\nPick a Pile to subtract any number (turn out any amount of lights), up to the Pilesize, from.\nNow the enemy does the same.\nThe one who turns out the last light of the last Pile, loses!\n"
        },
        {
          "output_type": "stream",
          "name": "stdin",
          "text": "Would you like a hard or easy enemy or play against another player? player\n"
        },
        {
          "name": "stdout",
          "output_type": "stream",
          "text": "These are the Piles: 4 7 2 10\nPlayer one's turn\n"
        },
        {
          "output_type": "stream",
          "name": "stdin",
          "text": "Wich pile? 4\nHow many? 10\n"
        },
        {
          "name": "stdout",
          "output_type": "stream",
          "text": "These are the Piles: 4 7 2 0\nPlayer two's turn\n"
        },
        {
          "output_type": "stream",
          "name": "stdin",
          "text": "Wich pile? 2\nHow many? 7\n"
        },
        {
          "name": "stdout",
          "output_type": "stream",
          "text": "These are the Piles: 4 0 2 0\nPlayer one's turn\n"
        },
        {
          "output_type": "stream",
          "name": "stdin",
          "text": "Wich pile? 1\nHow many? 4\n"
        },
        {
          "name": "stdout",
          "output_type": "stream",
          "text": "These are the Piles: 0 0 2 0\nPlayer two's turn\n"
        },
        {
          "output_type": "stream",
          "name": "stdin",
          "text": "Wich pile? 3\nHow many? 2\n"
        },
        {
          "name": "stdout",
          "output_type": "stream",
          "text": "These are the Piles: 0 0 0 0\nPlayer one won ;)\n"
        }
      ],
      "execution_count": 1
    },
    {
      "id": "9a21ecb5-4020-483e-b48e-ba4691b5117e",
      "cell_type": "code",
      "source": "",
      "metadata": {
        "trusted": true
      },
      "outputs": [],
      "execution_count": null
    }
  ]
}